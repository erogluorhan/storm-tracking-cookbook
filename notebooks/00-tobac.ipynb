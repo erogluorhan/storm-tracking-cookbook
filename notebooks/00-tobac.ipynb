{
 "cells": [
  {
   "cell_type": "markdown",
   "metadata": {},
   "source": [
    "<img src=\"images/tobac-logo.jpg\" width=400 alt=\"Tobac Logo\"></img>"
   ]
  },
  {
   "cell_type": "markdown",
   "metadata": {},
   "source": [
    "# Storm tracking in global kilometer-scale simulations \n",
    "\n",
    "- **Author:** Julia Kukulies \n",
    "- **Time to learn**: 45 minutes"
   ]
  },
  {
   "cell_type": "markdown",
   "metadata": {},
   "source": [
    "---"
   ]
  },
  {
   "cell_type": "markdown",
   "metadata": {},
   "source": [
    "# What is tobac? "
   ]
  },
  {
   "cell_type": "markdown",
   "metadata": {},
   "source": [
    "## tobac - Tracking and Object-Based Analysis of Clouds\n",
    "\n",
    "**tobac** is a Python package to rapidly identify, track and analyze clouds and storms in different types of gridded datasets, such as 3D model output from cloud-resolving model simulations or 2D data from satellite retrievals. This cookbook shows a workflow for how to track storms based on **unstructured model data** as unstructured grids become more and more common with the increasing spatial resolution of global weather and climate models. \n"
   ]
  },
  {
   "cell_type": "markdown",
   "metadata": {},
   "source": [
    "**tobac** has **four main modules**, so tracking can be done in three steps:\n",
    "\n",
    "#### 1. Feature detection\n",
    "\n",
    "Features are detected in every time step using thresholds for a given atmospheric field and a minimum area that needs to be above or below this threshold. \n",
    "    \n",
    "#### 2. Tracking \n",
    "    \n",
    "The detected features from step 1 are  linked over time using a search radius and their predicted propagation speed. In contrast to area-overlapping methods for the linking of features, **tobac** is based on particle tracking principles where the center points of features are assigned to a common track when they fall within the predicted radius of motion.\n",
    "                                                                                                                                                                                        \n",
    "#### 3. Segmentation                                                                                                                                                                                                                                                                                                   \n",
    "In this module the center points of the detected features are used to identify all contiguous pixels around them below/above a specified threshold using the water-shedding method from image processing. These segmented objects define the extent of each object and can be used to calculate additional statistics.\n",
    "\n",
    "#### 4. Merge and split    \n",
    "                                                                                                                                                                        \n",
    "**tobac** also allows us to explicitly treat the merging and splitting of the tracked storm objects and convective cells that belong to a weather system. The merging and splitting module in tobac is an independent post-processing step that can be performed optionally after the linking of features into time-continuous storm tracks. Connectivity trees are used to identify potential mergers and splitters based on the information of both the individual features and their associated tracks present at a single time step."
   ]
  },
  {
   "cell_type": "markdown",
   "metadata": {},
   "source": [
    "## Terminology\n",
    "\n",
    "\n",
    "### Feature\n",
    "\n",
    "*Features* refer to each unique storm object (contiguous area) in a specific timestep. \n",
    "\n",
    "### Cell\n",
    "\n",
    "Linked *features* over time that belong to the same storm are a *cell*.\n",
    "\n",
    "### Track \n",
    "\n",
    "*Tracks* are multiple *cells* that split and merge but have been identified as belonging to the same storm track."
   ]
  },
  {
   "cell_type": "markdown",
   "metadata": {},
   "source": [
    "---"
   ]
  },
  {
   "cell_type": "markdown",
   "metadata": {},
   "source": [
    "## Resources and references\n",
    "\n",
    "- [tobac source code on **GitHub**](https://github.com/tobac-project/tobac)\n",
    "- [A collection of **example jupyter notebooks**](https://github.com/tobac-project/tobac/tree/main/examples)\n",
    "- [tobac's full documentation on **Readthedocs**](https://tobac.readthedocs.io/en/latest/)\n",
    "- [latest peer-reviewed publication: **tobac v1.5: introducing fast 3D tracking, splits and mergers, and other enhancements for identifying and analysing meteorological phenomena**](https://gmd.copernicus.org/articles/17/5309/2024/)\n"
   ]
  }
 ],
 "metadata": {
  "kernelspec": {
   "display_name": "Python 3 (ipykernel)",
   "language": "python",
   "name": "python3"
  },
  "language_info": {
   "codemirror_mode": {
    "name": "ipython",
    "version": 3
   },
   "file_extension": ".py",
   "mimetype": "text/x-python",
   "name": "python",
   "nbconvert_exporter": "python",
   "pygments_lexer": "ipython3",
   "version": "3.10.13"
  },
  "nbdime-conflicts": {
   "local_diff": [
    {
     "diff": [
      {
       "diff": [
        {
         "key": 0,
         "op": "addrange",
         "valuelist": [
          "Python 3"
         ]
        },
        {
         "key": 0,
         "length": 1,
         "op": "removerange"
        }
       ],
       "key": "display_name",
       "op": "patch"
      }
     ],
     "key": "kernelspec",
     "op": "patch"
    }
   ],
   "remote_diff": [
    {
     "diff": [
      {
       "diff": [
        {
         "key": 0,
         "op": "addrange",
         "valuelist": [
          "Python3"
         ]
        },
        {
         "key": 0,
         "length": 1,
         "op": "removerange"
        }
       ],
       "key": "display_name",
       "op": "patch"
      }
     ],
     "key": "kernelspec",
     "op": "patch"
    }
   ]
  },
  "toc-autonumbering": false
 },
 "nbformat": 4,
 "nbformat_minor": 4
}
