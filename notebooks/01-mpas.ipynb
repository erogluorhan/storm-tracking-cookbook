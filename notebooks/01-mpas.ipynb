{
 "cells": [
  {
   "cell_type": "markdown",
   "metadata": {},
   "source": [
    "# Model Prediction Across Scales (MPAS) "
   ]
  },
  {
   "cell_type": "markdown",
   "metadata": {},
   "source": [
    "<img src=\"images/mpas.png\" width=400 alt=\"MPAS Logo\"></img>"
   ]
  },
  {
   "cell_type": "markdown",
   "metadata": {},
   "source": [
    "---"
   ]
  },
  {
   "cell_type": "markdown",
   "metadata": {},
   "source": [
    "## What is MPAS? "
   ]
  },
  {
   "cell_type": "markdown",
   "metadata": {},
   "source": [
    "- A **global** atmospheric (and oceanic) modeling system developed by the [National Center for Atmospheric Research](https://ncar.ucar.edu/), [Los Alamos National Laboratory](https://www.lanl.gov/) and collaborators.\n",
    "\n",
    "- Designed to simulate weather and climate across a wide range of spatial scales (from km-scale convection to planetary waves)."
   ]
  },
  {
   "cell_type": "markdown",
   "metadata": {},
   "source": [
    "## Key features"
   ]
  },
  {
   "cell_type": "markdown",
   "metadata": {},
   "source": [
    "| Feature               | Description                                                                 |\n",
    "|-----------------------|-----------------------------------------------------------------------------|\n",
    "| **Unstructured mesh** | Uses a **Voronoi (hexagonal)** grid, allowing **variable resolution**       |\n",
    "| **Mesh refinement**   | Allows for higher spatial resolution over areas of interest       |\n",
    "| **Scales**            | Resolves **mesoscale to global-scale** phenomena in one framework           |\n",
    "| **Core**              | Based on **non-hydrostatic, compressible equations**                        |\n",
    "| **Components**        | MPAS-A (atmosphere), MPAS-O (ocean), coupled in **E3SM** and **CESM**       |\n"
   ]
  },
  {
   "cell_type": "markdown",
   "metadata": {},
   "source": [
    "## What MPAS data looks like"
   ]
  },
  {
   "cell_type": "markdown",
   "metadata": {},
   "source": [
    "- Data is stored in NetCDF files using a cell-based layout (nCells, nEdges, nVertices)\n",
    "\n",
    "- Spatial coordinates for every grid cell are given in radians (latCell, lonCell)\n",
    "\n",
    "- Often used with a separate static mesh file for grid info"
   ]
  },
  {
   "cell_type": "markdown",
   "metadata": {},
   "source": [
    "## Resources and references\n",
    "\n",
    "\n",
    "- MPAS on the [NSF NCAR webpage](https://www.mmm.ucar.edu/models/mpas)\n",
    "- More detailed [MPAS documentation)[https://mpas-dev.github.io/atmosphere/atmosphere_download.html]\n",
    "- The [DYAMOND experiment](https://easy.gems.dkrz.de/DYAMOND/index.html) is a framework for an intercomparison of multiple global km-scale models"
   ]
  }
 ],
 "metadata": {
  "kernelspec": {
   "display_name": "Python 3 (ipykernel)",
   "language": "python",
   "name": "python3"
  },
  "language_info": {
   "codemirror_mode": {
    "name": "ipython",
    "version": 3
   },
   "file_extension": ".py",
   "mimetype": "text/x-python",
   "name": "python",
   "nbconvert_exporter": "python",
   "pygments_lexer": "ipython3",
   "version": "3.10.13"
  },
  "nbdime-conflicts": {
   "local_diff": [
    {
     "diff": [
      {
       "diff": [
        {
         "key": 0,
         "op": "addrange",
         "valuelist": [
          "Python 3"
         ]
        },
        {
         "key": 0,
         "length": 1,
         "op": "removerange"
        }
       ],
       "key": "display_name",
       "op": "patch"
      }
     ],
     "key": "kernelspec",
     "op": "patch"
    }
   ],
   "remote_diff": [
    {
     "diff": [
      {
       "diff": [
        {
         "key": 0,
         "op": "addrange",
         "valuelist": [
          "Python3"
         ]
        },
        {
         "key": 0,
         "length": 1,
         "op": "removerange"
        }
       ],
       "key": "display_name",
       "op": "patch"
      }
     ],
     "key": "kernelspec",
     "op": "patch"
    }
   ]
  },
  "toc-autonumbering": false
 },
 "nbformat": 4,
 "nbformat_minor": 4
}
